{
  "nbformat": 4,
  "nbformat_minor": 0,
  "metadata": {
    "colab": {
      "provenance": []
    },
    "kernelspec": {
      "name": "python3",
      "display_name": "Python 3"
    },
    "language_info": {
      "name": "python"
    }
  },
  "cells": [
    {
      "cell_type": "code",
      "execution_count": 27,
      "metadata": {
        "id": "Qk9c24iSaJO2"
      },
      "outputs": [],
      "source": [
        "import numpy as np\n",
        "import tensorflow #open source used for both ML and DL for computation\n",
        "from tensorflow.keras.datasets import mnist #mnist dataset\n",
        "from tensorflow.keras.models import Sequential #it is a plain stack of layers\n",
        "from tensorflow.keras import layers #A Layer consists of a tensor- in tensor-out computat ion funct ion\n",
        "from tensorflow.keras.layers import Dense, Flatten #Dense-Dense Layer is the regular deeply connected r\n",
        "#faltten -used fot flattening the input or change the dimension\n",
        "from tensorflow.keras.layers import Conv2D #onvoLutiona l Layer\n",
        "from keras.optimizers import Adam #opt imizer\n",
        "from keras. utils import np_utils #used for one-hot encoding\n",
        "import matplotlib.pyplot as plt   #used for data visualization\n"
      ]
    },
    {
      "cell_type": "code",
      "source": [
        "(x_train, y_train), (x_test, y_test)=mnist.load_data ()\n",
        "x_train=x_train.reshape (60000, 28, 28, 1).astype('float32')\n",
        "x_test=x_test.reshape (10000, 28, 28, 1).astype ('float32')\n",
        "number_of_classes = 10  #storing the no of classes in a variable\n",
        "y_train = np_utils.to_categorical (y_train, number_of_classes) #converts the output in binary format\n",
        "y_test = np_utils.to_categorical (y_test, number_of_classes)"
      ],
      "metadata": {
        "id": "4TXGIxiCaKm4"
      },
      "execution_count": 5,
      "outputs": []
    },
    {
      "cell_type": "code",
      "source": [
        "#create model\n",
        "model=Sequential ()"
      ],
      "metadata": {
        "id": "D6jRa2NSaTzb"
      },
      "execution_count": 6,
      "outputs": []
    },
    {
      "cell_type": "code",
      "source": [
        "#adding modeL Layer\n",
        "model.add(Conv2D(64, (3, 3), input_shape=(28, 28, 1), activation='relu'))\n",
        "model.add(Conv2D(32, (3, 3), activation = 'relu'))"
      ],
      "metadata": {
        "id": "LQwGkKI1bgJg"
      },
      "execution_count": 7,
      "outputs": []
    },
    {
      "cell_type": "code",
      "source": [
        "#flatten the dimension of the image\n",
        "model.add(Flatten())"
      ],
      "metadata": {
        "id": "kwkFiDYPbjEA"
      },
      "execution_count": 8,
      "outputs": []
    },
    {
      "cell_type": "code",
      "source": [
        "#output layer with 10 neurons\n",
        "model.add(Dense(number_of_classes,activation = 'softmax'))"
      ],
      "metadata": {
        "id": "0BEtB-QWbmVG"
      },
      "execution_count": 9,
      "outputs": []
    },
    {
      "cell_type": "code",
      "source": [
        "#Compile model\n",
        "model.compile(loss= 'categorical_crossentropy', optimizer=\"Adam\", metrics=['accuracy'])"
      ],
      "metadata": {
        "id": "Ew0FLyeAbpw0"
      },
      "execution_count": 10,
      "outputs": []
    },
    {
      "cell_type": "code",
      "source": [
        "x_train = np.asarray(x_train)\n",
        "y_train = np.asarray(y_train)"
      ],
      "metadata": {
        "id": "Ajg9__uVbs1j"
      },
      "execution_count": 11,
      "outputs": []
    },
    {
      "cell_type": "code",
      "source": [
        "#fit the model\n",
        "model.fit(x_train, y_train, validation_data=(x_test, y_test), epochs=5, batch_size=32)"
      ],
      "metadata": {
        "colab": {
          "base_uri": "https://localhost:8080/"
        },
        "id": "Fa3mjturb8v6",
        "outputId": "067c1a0e-eb7d-4530-cac5-2251ad6bd9c1"
      },
      "execution_count": 12,
      "outputs": [
        {
          "output_type": "stream",
          "name": "stdout",
          "text": [
            "Epoch 1/5\n",
            "1875/1875 [==============================] - 202s 107ms/step - loss: 0.1777 - accuracy: 0.9548 - val_loss: 0.0765 - val_accuracy: 0.9764\n",
            "Epoch 2/5\n",
            "1875/1875 [==============================] - 205s 109ms/step - loss: 0.0623 - accuracy: 0.9812 - val_loss: 0.0862 - val_accuracy: 0.9739\n",
            "Epoch 3/5\n",
            "1875/1875 [==============================] - 201s 107ms/step - loss: 0.0451 - accuracy: 0.9861 - val_loss: 0.0773 - val_accuracy: 0.9759\n",
            "Epoch 4/5\n",
            "1875/1875 [==============================] - 199s 106ms/step - loss: 0.0364 - accuracy: 0.9888 - val_loss: 0.0920 - val_accuracy: 0.9767\n",
            "Epoch 5/5\n",
            "1875/1875 [==============================] - 200s 107ms/step - loss: 0.0266 - accuracy: 0.9919 - val_loss: 0.0929 - val_accuracy: 0.9800\n"
          ]
        },
        {
          "output_type": "execute_result",
          "data": {
            "text/plain": [
              "<keras.callbacks.History at 0x7f98748b8290>"
            ]
          },
          "metadata": {},
          "execution_count": 12
        }
      ]
    },
    {
      "cell_type": "code",
      "source": [
        "# Final evaluation of the model\n",
        "metrics = model.evaluate(x_test, y_test, verbose=0)\n",
        "print(\"Metrics (Test loss &Test Accuracy) : \")\n",
        "print(metrics)"
      ],
      "metadata": {
        "colab": {
          "base_uri": "https://localhost:8080/"
        },
        "id": "ClHW0JJvgAnc",
        "outputId": "200077f5-232e-4074-922c-624aae5a791e"
      },
      "execution_count": 13,
      "outputs": [
        {
          "output_type": "stream",
          "name": "stdout",
          "text": [
            "Metrics (Test loss &Test Accuracy) : \n",
            "[0.09287292510271072, 0.9800000190734863]\n"
          ]
        }
      ]
    },
    {
      "cell_type": "code",
      "source": [
        "prediction=model.predict(x_test[6000:6001])\n",
        "print(prediction)"
      ],
      "metadata": {
        "colab": {
          "base_uri": "https://localhost:8080/"
        },
        "id": "GnFS7crXgGc_",
        "outputId": "ed8909a7-d862-4bcf-c378-57a6852dccfc"
      },
      "execution_count": 14,
      "outputs": [
        {
          "output_type": "stream",
          "name": "stdout",
          "text": [
            "1/1 [==============================] - 0s 126ms/step\n",
            "[[9.2221031e-14 5.9426531e-14 3.7647916e-11 8.8048302e-10 2.0471994e-04\n",
            "  2.0997410e-09 4.0648691e-14 7.7111654e-06 1.1065460e-07 9.9978751e-01]]\n"
          ]
        }
      ]
    },
    {
      "cell_type": "code",
      "source": [
        "import tensorflow as tf\n",
        "from tensorflow import keras\n",
        "from tensorflow.keras import datasets, layers, models\n",
        "(train_images, train_labels) = datasets.mnist.load_data()\n",
        "import matplotlib.pyplot as plt\n",
        "train_images = train_images[0] / 255\n",
        "plt.imshow(train_images[0])"
      ],
      "metadata": {
        "colab": {
          "base_uri": "https://localhost:8080/",
          "height": 282
        },
        "id": "OUQcsyz5gI7W",
        "outputId": "dbfb6ff9-227c-413b-ca7b-12ae85ecf5fd"
      },
      "execution_count": 17,
      "outputs": [
        {
          "output_type": "execute_result",
          "data": {
            "text/plain": [
              "<matplotlib.image.AxesImage at 0x7f987466c4d0>"
            ]
          },
          "metadata": {},
          "execution_count": 17
        },
        {
          "output_type": "display_data",
          "data": {
            "text/plain": [
              "<Figure size 432x288 with 1 Axes>"
            ],
            "image/png": "[encoded data removed]"
          },
          "metadata": {
            "needs_background": "light"
          }
        }
      ]
    },
    {
      "cell_type": "code",
      "source": [
        "import numpy as np\n",
        "print(np.argmax(prediction, axis=1)) #printing our Labels from first 4 images"
      ],
      "metadata": {
        "colab": {
          "base_uri": "https://localhost:8080/"
        },
        "id": "ZpDvX4HHgZ5R",
        "outputId": "fcdaf312-3bac-4193-a693-be5350391e4f"
      },
      "execution_count": 18,
      "outputs": [
        {
          "output_type": "stream",
          "name": "stdout",
          "text": [
            "[9]\n"
          ]
        }
      ]
    },
    {
      "cell_type": "code",
      "source": [
        "np.argmax(y_test[6000:6001]) #printing the actual labels"
      ],
      "metadata": {
        "colab": {
          "base_uri": "https://localhost:8080/"
        },
        "id": "W7SeoJjggcfo",
        "outputId": "f69b1313-2610-405e-88f3-98fae03850b7"
      },
      "execution_count": 19,
      "outputs": [
        {
          "output_type": "execute_result",
          "data": {
            "text/plain": [
              "9"
            ]
          },
          "metadata": {},
          "execution_count": 19
        }
      ]
    },
    {
      "cell_type": "code",
      "source": [
        "# Save the model\n",
        "model.save('models/mnistCNN.h5')"
      ],
      "metadata": {
        "id": "QkmJ8PzFgemB"
      },
      "execution_count": 20,
      "outputs": []
    },
    {
      "cell_type": "code",
      "source": [
        "prediction = model.predict(X_test[:4])\n",
        "print(prediction)"
      ],
      "metadata": {
        "colab": {
          "base_uri": "https://localhost:8080/"
        },
        "id": "EYI4iePZh_8I",
        "outputId": "cc98c6dc-e223-4d32-9db0-158f02dfc48b"
      },
      "execution_count": 22,
      "outputs": [
        {
          "output_type": "stream",
          "name": "stdout",
          "text": [
            "1/1 [==============================] - 0s 71ms/step\n",
            "[[7.9245907e-12 8.7344948e-19 6.4173090e-12 1.1996775e-11 2.2141147e-16\n",
            "  4.1880456e-18 1.5928220e-23 1.0000000e+00 6.2035631e-13 2.0127895e-12]\n",
            " [2.7044177e-06 1.9362913e-06 9.9988782e-01 1.2599278e-08 1.4173492e-10\n",
            "  1.7032900e-13 1.0616378e-04 2.1246551e-14 1.2515808e-06 2.0814476e-14]\n",
            " [2.0580188e-10 9.9995089e-01 1.2595250e-07 7.4438069e-14 2.4884939e-06\n",
            "  2.0877899e-10 2.7029878e-09 8.5826218e-10 4.6530735e-05 7.6779910e-10]\n",
            " [1.0000000e+00 4.2832023e-14 2.8430047e-10 2.7173563e-17 2.2270385e-11\n",
            "  5.8153168e-13 3.8477905e-09 3.4167412e-15 7.2158973e-10 5.7200067e-13]]\n"
          ]
        }
      ]
    },
    {
      "cell_type": "code",
      "source": [
        "def featureExtractor(path):\n",
        "    import numpy as np\n"
      ],
      "metadata": {
        "id": "5n3fE6VniJeU"
      },
      "execution_count": 29,
      "outputs": []
    }
  ]
}